{
 "cells": [
  {
   "cell_type": "code",
   "execution_count": 1,
   "metadata": {
    "collapsed": true
   },
   "outputs": [],
   "source": [
    "import numpy as np\n",
    "import pandas as pd\n",
    "import seaborn as sns\n",
    "import matplotlib.pyplot as plt\n",
    "import plotly.express as px\n",
    "import plotly.graph_objects as go\n",
    "from pathlib import Path\n",
    "from datetime import datetime, timedelta\n",
    "from sklearn.metrics import mean_squared_error"
   ]
  },
  {
   "cell_type": "code",
   "execution_count": 38,
   "outputs": [],
   "source": [
    "class ModelComparer:\n",
    "    def __init__(self, models):\n",
    "        \"\"\"\n",
    "        Инициализация с массивом моделей.\n",
    "        Каждый элемент массива models должен быть словарем в формате:\n",
    "        {'name': 'Название модели', 'predictions': список_предсказаний, 'true_values': список_истинных_значений}\n",
    "\n",
    "        :param models: массив со словарями вида:{'name': 'Название модели', 'predictions': список_предсказаний, 'true_values': список_истинных_значений}\n",
    "        \"\"\"\n",
    "        self.models = models\n",
    "        self.models_quality = {}\n",
    "\n",
    "    def find_quality(self):\n",
    "        \"\"\"\n",
    "        Вычисляет и выводит среднеквадратичную ошибку(MSE) для каждой модели.\n",
    "\n",
    "        \"\"\"\n",
    "\n",
    "        for model in self.models:\n",
    "            mse = mean_squared_error(model['y_true'], model['y_pred'])\n",
    "            self.models_quality[model['name']] = mse\n",
    "            #print(f\"Модель {model['name']}: MSE = {mse}\")\n",
    "        return self.models_quality\n",
    "\n",
    "    def best_model(self):\n",
    "        \"\"\"\n",
    "        Возвращает название модели с наименьшей среднеквадратичной ошибкой.\n",
    "        \"\"\"\n",
    "        min_mse = np.min(list( self.models_quality.values() ))\n",
    "        best_model_name = None\n",
    "\n",
    "        for model, model_quality in self.models_quality.items():\n",
    "\n",
    "            if model_quality == min_mse:\n",
    "                best_model_name = model\n",
    "\n",
    "        return best_model_name\n"
   ],
   "metadata": {
    "collapsed": false
   }
  },
  {
   "cell_type": "code",
   "execution_count": 48,
   "outputs": [
    {
     "name": "stdout",
     "output_type": "stream",
     "text": [
      "\n",
      "Лучшая модель:Arima\n",
      "Качество других моделей: {'Arima': 0.25, 'Autoencoder': 0.5, 'RNN': 0.75}\n",
      "\n"
     ]
    }
   ],
   "source": [
    "models_data = [\n",
    "{'name': 'Arima', 'y_pred': [1, 2, 3, 5], 'y_true': [1, 2, 3,4]},\n",
    "{'name': 'Autoencoder', 'y_pred': [1, 2, 3, 4], 'y_true': [2, 2, 4, 4]},\n",
    "{'name': 'RNN', 'y_pred': [1, 2, 3, 3], 'y_true': [2, 2, 2, 2]}\n",
    "]\n",
    "\n",
    "comparer = ModelComparer(models_data)\n",
    "models_quality = comparer.find_quality()\n",
    "print(f\"\"\"\n",
    "Лучшая модель:{comparer.best_model()}\n",
    "Качество других моделей: {models_quality}\n",
    "\"\"\")"
   ],
   "metadata": {
    "collapsed": false
   }
  },
  {
   "cell_type": "code",
   "execution_count": null,
   "outputs": [],
   "source": [],
   "metadata": {
    "collapsed": false
   }
  }
 ],
 "metadata": {
  "kernelspec": {
   "display_name": "Python 3",
   "language": "python",
   "name": "python3"
  },
  "language_info": {
   "codemirror_mode": {
    "name": "ipython",
    "version": 2
   },
   "file_extension": ".py",
   "mimetype": "text/x-python",
   "name": "python",
   "nbconvert_exporter": "python",
   "pygments_lexer": "ipython2",
   "version": "2.7.6"
  }
 },
 "nbformat": 4,
 "nbformat_minor": 0
}
